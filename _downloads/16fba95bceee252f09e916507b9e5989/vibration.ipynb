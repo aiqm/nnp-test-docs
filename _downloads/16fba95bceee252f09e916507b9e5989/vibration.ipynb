{
  "cells": [
    {
      "cell_type": "code",
      "execution_count": null,
      "metadata": {
        "collapsed": false
      },
      "outputs": [],
      "source": [
        "%matplotlib inline"
      ]
    },
    {
      "cell_type": "markdown",
      "metadata": {},
      "source": [
        "\nAnalytical Hessians and Vibrational Analysis\n============================================\n\nThis tutorial demonstrates how compute analytical hessians and do\nvibrational analysis using ``nnp.vib``.\n\n"
      ]
    },
    {
      "cell_type": "markdown",
      "metadata": {},
      "source": [
        "Let's first import all the packages we will use:\n\n"
      ]
    },
    {
      "cell_type": "code",
      "execution_count": null,
      "metadata": {
        "collapsed": false
      },
      "outputs": [],
      "source": [
        "import torch\nimport math\nimport pytest\nfrom pytest import approx\nimport sys\nimport nnp.so3 as so3\nimport nnp.vib as vib"
      ]
    },
    {
      "cell_type": "markdown",
      "metadata": {},
      "source": [
        "In this tutorial, we will study atoms moving in a quadratic potential.\nThere is no interaction between these atoms.\n\nLet's first construct such a potential. A naive potential would be:\n\n\\begin{align}U(x, y, z) = \\frac{1}{2} \\left(0.5 x^2 + y^2 + 2 z^2\\right)\\end{align}\n\n"
      ]
    },
    {
      "cell_type": "code",
      "execution_count": null,
      "metadata": {
        "collapsed": false
      },
      "outputs": [],
      "source": [
        "def naive_potential(x, y, z):\n    return 0.5 * (0.5 * x ** 2 + y ** 2 + 2 * z ** 2)"
      ]
    },
    {
      "cell_type": "markdown",
      "metadata": {},
      "source": [
        "A naive potential is not very interesting, let's rotate the potential along\nthe z axis for 45 degrees. Rotating the potential along the z axis for 45 degrees\nis equivalent to rotate the coordinates along the z axis for -45 degrees before\nevaluating the naive potential.  Let's make our potential able to handle both\nsingle molecule (i.e. coordinates has shape `(atoms, 3)`), and in batch (i.e.\ncoordinates has shape `(molecules, atoms, 3)`):\n\n"
      ]
    },
    {
      "cell_type": "code",
      "execution_count": null,
      "metadata": {
        "collapsed": false
      },
      "outputs": [],
      "source": [
        "rot45 = so3.rotate_along(torch.tensor([0, 0, math.pi / 4]))\nrot_neg_45 = so3.rotate_along(torch.tensor([0, 0, -math.pi / 4]))\n\n\ndef potential(coordinates):\n    rotated_coordinates = (rot_neg_45 @ coordinates.transpose(-1, -2)).transpose(-1, -2)\n    x, y, z = rotated_coordinates.unbind(-1)\n    return naive_potential(x, y, z).sum(dim=-1)"
      ]
    },
    {
      "cell_type": "markdown",
      "metadata": {},
      "source": [
        "Analytical Hessian\n------------------\n\nNow let's compute the hessian one molecule containing two atoms at the origin\n\n"
      ]
    },
    {
      "cell_type": "code",
      "execution_count": null,
      "metadata": {
        "collapsed": false
      },
      "outputs": [],
      "source": [
        "coordinates = torch.zeros(2, 3, requires_grad=True)\nenergy = potential(coordinates)\nhessian = vib.hessian(coordinates, energies=energy)\nprint(hessian)"
      ]
    },
    {
      "cell_type": "markdown",
      "metadata": {},
      "source": [
        "Let's compute the theoretical result to see if it matches with the result above:\n\nFirst of all, because there are no interactions between atoms, the hessian\nshould be a block diagonal matrix:\n\n\\begin{align}H = \\left[9\\times9\\right] = \\left[\\begin{array}{cc}\n                                    3\\times3\\\\\n                                    & 3\\times3\n                                    \\end{array}\\right]\\end{align}\n\nThe two $3\\times3$ matricies are identical. For each $3\\times3$\nmatrix, the potential is not rotated at the z axis, so the structure of it\nshould be:\n\n\\begin{align}\\left[\\begin{array}{ccc}\n   ? & ?\\\\\n   ? & ?\\\\\n   &  & 2\n   \\end{array}\\right]\\end{align}\n\nIt is not hard to figure out that, for the rotated potential, considering\nonly the contribution from x,y plane, it can be written as:\n\n\\begin{align}U=\\frac{1}{2}\\left[0.5\\left(\\frac{x+y}{\\sqrt{2}}\\right)^{2}+\\left(\\frac{y-x}{\\sqrt{2}}\\right)^{2}\\right]=\\frac{1}{4}\\left(1.5x^{2}+1.5y^{2}-xy\\right)\\end{align}\n\nTherefore, the $2\\times2$ block on the top left should be\n\n\\begin{align}\\left[\\begin{array}{cc}\n   0.75 & -0.25\\\\\n   -0.25 & 0.75\n   \\end{array}\\right]\\end{align}\n\n"
      ]
    },
    {
      "cell_type": "code",
      "execution_count": null,
      "metadata": {
        "collapsed": false
      },
      "outputs": [],
      "source": [
        "def test_analytical_hessian():\n    hessian00 = hessian[:3, :3]\n    hessian01 = hessian[:3, 3:]\n    hessian10 = hessian[3:, :3]\n    hessian11 = hessian[3:, 3:]\n    expected = torch.tensor([\n        [ 0.75, -0.25, 0],  # noqa: E201, E241\n        [-0.25,  0.75, 0],  # noqa: E201, E241\n        [ 0.00,  0.00, 2],  # noqa: E201, E241\n    ])\n    assert torch.allclose(hessian00, expected)\n    assert torch.allclose(hessian11, expected)\n    assert torch.allclose(hessian10, torch.zeros(3, 3))\n    assert torch.allclose(hessian01, torch.zeros(3, 3))"
      ]
    },
    {
      "cell_type": "markdown",
      "metadata": {},
      "source": [
        "We also support compute multiple molecules in batch\n\n"
      ]
    },
    {
      "cell_type": "code",
      "execution_count": null,
      "metadata": {
        "collapsed": false
      },
      "outputs": [],
      "source": [
        "coordinates_batch = torch.zeros(2, 2, 3, requires_grad=True)\nenergy_batch = potential(coordinates_batch)\nhessian_batch = vib.hessian(coordinates_batch, energies=energy_batch)\nprint(hessian_batch)"
      ]
    },
    {
      "cell_type": "markdown",
      "metadata": {},
      "source": [
        "The hessian should be just the stack of the previous results twice\n\n"
      ]
    },
    {
      "cell_type": "code",
      "execution_count": null,
      "metadata": {
        "collapsed": false
      },
      "outputs": [],
      "source": [
        "def test_analytical_hessian_batch():\n    expected = torch.stack([hessian, hessian])\n    assert torch.allclose(expected, hessian_batch)"
      ]
    },
    {
      "cell_type": "markdown",
      "metadata": {},
      "source": [
        "Vibrational Analysis\n--------------------\n\nNow let's do vibrational analysis using the computed hessians. Let's assume\nthe two atoms has mass (1, 3). The hessian should have shape `(3 * atoms, 3 * atoms)`,\nthe mass should have shape `(atoms,)`\n\n"
      ]
    },
    {
      "cell_type": "code",
      "execution_count": null,
      "metadata": {
        "collapsed": false
      },
      "outputs": [],
      "source": [
        "mass = torch.tensor([1.0, 3.0])\nfreq_modes1 = vib.vibrational_analysis(mass, hessian)"
      ]
    },
    {
      "cell_type": "markdown",
      "metadata": {},
      "source": [
        "The output angular frequencies should have shape `(modes,)`, while the modes\nhave shape `(modes, atoms, 3)`, where the modes dimension correspond to different\nvibrational modes\n\n"
      ]
    },
    {
      "cell_type": "code",
      "execution_count": null,
      "metadata": {
        "collapsed": false
      },
      "outputs": [],
      "source": [
        "print(freq_modes1.angular_frequencies.shape)\nprint(freq_modes1.angular_frequencies)\nprint(freq_modes1.modes.shape)\nprint(freq_modes1.modes)"
      ]
    },
    {
      "cell_type": "markdown",
      "metadata": {},
      "source": [
        "The angular frequency of a harmonic oscillator is given by $\\sqrt{\\frac{k}{m}}$.\nFor this example, the two atoms are independent, therefore the normal modes would\nhave one atom moving while the other static. The angular frequencies are also\nindependent to each other. Therefore, we expect to see the following combinations\nof angular frequencies and normal modes:\n\n+----------------------------+-------------+-----------+\n| Angular Frequency          | Moving Atom | Direction |\n+============================+=============+===========+\n| $\\frac{1}{\\sqrt{2}}$ | 1           | (x, y)    |\n+----------------------------+-------------+-----------+\n| $1$                  | 1           | (x, -y)   |\n+----------------------------+-------------+-----------+\n| $\\sqrt{2}$           | 1           | z         |\n+----------------------------+-------------+-----------+\n| $\\frac{1}{\\sqrt{6}}$ | 2           | (x, y)    |\n+----------------------------+-------------+-----------+\n| $\\frac{1}{\\sqrt{3}}$ | 2           | (x, -y)   |\n+----------------------------+-------------+-----------+\n| $\\sqrt{\\frac{2}{3}}$ | 2           | z         |\n+----------------------------+-------------+-----------+\n\nNow let's write a test function to test this case\n\n"
      ]
    },
    {
      "cell_type": "code",
      "execution_count": null,
      "metadata": {
        "collapsed": false
      },
      "outputs": [],
      "source": [
        "def test_vibrational_analysis():\n    expected_freqs = torch.tensor([\n        1 / math.sqrt(6), 1 / math.sqrt(3), 1 / math.sqrt(2),\n        math.sqrt(2 / 3), 1, math.sqrt(2)])\n    assert torch.allclose(freq_modes1.angular_frequencies, expected_freqs)\n\n    mode0 = freq_modes1.modes[0]\n    atom0, atom1 = mode0\n    assert torch.allclose(atom0, torch.zeros(3))\n    assert atom1[0].item() == approx(atom1[1].item())\n    assert atom1[2].item() == approx(0)\n\n    mode1 = freq_modes1.modes[1]\n    atom0, atom1 = mode1\n    assert torch.allclose(atom0, torch.zeros(3))\n    assert atom1[0].item() == approx(-atom1[1].item())\n    assert atom1[2].item() == approx(0)\n\n    mode2 = freq_modes1.modes[2]\n    atom0, atom1 = mode2\n    assert torch.allclose(atom1, torch.zeros(3))\n    assert atom0[0].item() == approx(atom0[1].item())\n    assert atom0[2].item() == approx(0)\n\n    mode3 = freq_modes1.modes[3]\n    atom0, atom1 = mode3\n    assert torch.allclose(atom0, torch.zeros(3))\n    assert torch.allclose(atom1[:1], torch.zeros(2))\n    assert atom1[2].abs().item() > 1e-3\n\n    mode4 = freq_modes1.modes[4]\n    atom0, atom1 = mode4\n    assert torch.allclose(atom1, torch.zeros(3))\n    assert atom0[0].item() == approx(-atom0[1].item())\n    assert atom0[2].item() == approx(0)\n\n    mode5 = freq_modes1.modes[5]\n    atom0, atom1 = mode5\n    assert torch.allclose(atom1, torch.zeros(3))\n    assert torch.allclose(atom0[:1], torch.zeros(2))\n    assert atom0[2].abs().item() > 1e-3"
      ]
    },
    {
      "cell_type": "markdown",
      "metadata": {},
      "source": [
        "We also support doing vibrational analysis in batch. In case of batch, the\nhessian should have shape `(molecules, 3 * atoms, 3 * atoms)`, and the mass\nshould have shape `(molecules, atoms)`. The resulting tensors is just a stack\nof tensors for the single molecule case.\n\n"
      ]
    },
    {
      "cell_type": "code",
      "execution_count": null,
      "metadata": {
        "collapsed": false
      },
      "outputs": [],
      "source": [
        "mass_batch = torch.stack([mass, mass])\nfreq_modes2 = vib.vibrational_analysis(mass_batch, hessian_batch)\nprint(freq_modes2.angular_frequencies.shape)\nprint(freq_modes2.angular_frequencies)\nprint(freq_modes2.modes.shape)\nprint(freq_modes2.modes)"
      ]
    },
    {
      "cell_type": "markdown",
      "metadata": {},
      "source": [
        "Let's test if the result is a stack of pervious results\n\n"
      ]
    },
    {
      "cell_type": "code",
      "execution_count": null,
      "metadata": {
        "collapsed": false
      },
      "outputs": [],
      "source": [
        "def test_vibrational_analysis_batch():\n    af1 = freq_modes1.angular_frequencies\n    m1 = freq_modes1.modes\n    expected_af = torch.stack([af1, af1])\n    expected_modes = torch.stack([m1, m1])\n    assert torch.allclose(expected_af, freq_modes2.angular_frequencies)\n    assert torch.allclose(expected_modes, freq_modes2.modes)"
      ]
    },
    {
      "cell_type": "markdown",
      "metadata": {},
      "source": [
        "In the case when the batch are isomers (i.e. have the same masses), it is also\npossible to just specify the mass as shape `(atoms,)` and it will broadcast\nautomatically.\n\n"
      ]
    },
    {
      "cell_type": "code",
      "execution_count": null,
      "metadata": {
        "collapsed": false
      },
      "outputs": [],
      "source": [
        "freq_modes3 = vib.vibrational_analysis(mass, hessian_batch)\nprint(freq_modes3.angular_frequencies.shape)\nprint(freq_modes3.angular_frequencies)\nprint(freq_modes3.modes.shape)\nprint(freq_modes3.modes)"
      ]
    },
    {
      "cell_type": "markdown",
      "metadata": {},
      "source": [
        "Let's test if we still have the same result\n\n"
      ]
    },
    {
      "cell_type": "code",
      "execution_count": null,
      "metadata": {
        "collapsed": false
      },
      "outputs": [],
      "source": [
        "def test_vibrational_analysis_batch_broadcast():\n    assert torch.allclose(freq_modes2.angular_frequencies, freq_modes3.angular_frequencies)\n    assert torch.allclose(freq_modes2.modes, freq_modes3.modes)"
      ]
    },
    {
      "cell_type": "markdown",
      "metadata": {},
      "source": [
        "Now let's run all the tests\n\n"
      ]
    },
    {
      "cell_type": "code",
      "execution_count": null,
      "metadata": {
        "collapsed": false
      },
      "outputs": [],
      "source": [
        "if __name__ == '__main__':\n    pytest.main([sys.argv[0], '-v'])"
      ]
    }
  ],
  "metadata": {
    "kernelspec": {
      "display_name": "Python 3",
      "language": "python",
      "name": "python3"
    },
    "language_info": {
      "codemirror_mode": {
        "name": "ipython",
        "version": 3
      },
      "file_extension": ".py",
      "mimetype": "text/x-python",
      "name": "python",
      "nbconvert_exporter": "python",
      "pygments_lexer": "ipython3",
      "version": "3.6.9"
    }
  },
  "nbformat": 4,
  "nbformat_minor": 0
}