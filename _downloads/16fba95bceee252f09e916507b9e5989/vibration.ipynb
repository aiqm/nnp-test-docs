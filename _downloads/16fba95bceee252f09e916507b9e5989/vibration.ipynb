{
  "cells": [
    {
      "cell_type": "code",
      "execution_count": null,
      "metadata": {
        "collapsed": false
      },
      "outputs": [],
      "source": [
        "%matplotlib inline"
      ]
    },
    {
      "cell_type": "markdown",
      "metadata": {},
      "source": [
        "\nAnalytical Hessians and Vibrational Analysis\n============================================\n\nThis tutorial demonstrates how compute analytical hessians and do\nvibrational analysis using ``nnp.vib``.\n\n"
      ]
    },
    {
      "cell_type": "markdown",
      "metadata": {},
      "source": [
        "Let's first import all the packages we will use:\n\n"
      ]
    },
    {
      "cell_type": "code",
      "execution_count": null,
      "metadata": {
        "collapsed": false
      },
      "outputs": [],
      "source": [
        "import torch\nimport math\nimport pytest\nimport sys\nimport nnp.so3 as so3\nimport nnp.vib as vib"
      ]
    },
    {
      "cell_type": "markdown",
      "metadata": {},
      "source": [
        "In this tutorial, we will study atoms moving in a quadratic potential.\nThere is no interaction between these atoms.\n\nLet's first construct such a potential. A naive potential would be:\n\n\\begin{align}U(x, y, z) = \\frac{1}{2} \\left(0.5 x^2 + y^2 + 2 z^2\\right)\\end{align}\n\n"
      ]
    },
    {
      "cell_type": "code",
      "execution_count": null,
      "metadata": {
        "collapsed": false
      },
      "outputs": [],
      "source": [
        "def naive_potential(x, y, z):\n    return 0.5 * (0.5 * x ** 2 + y ** 2 + 2 * z ** 2)"
      ]
    },
    {
      "cell_type": "markdown",
      "metadata": {},
      "source": [
        "A naive potential is not very interesting, let's rotate the potential along\nthe z axis for 45 degrees. Rotating the potential along the z axis for 45 degrees\nis equivalent to rotate the coordinates along the z axis for -45 degrees before\nevaluating the naive potential.  Let's make our potential able to handle both\nsingle molecule (i.e. coordinates has shape `(atoms, 3)`), and in batch (i.e.\ncoordinates has shape `(molecules, atoms, 3)`):\n\n"
      ]
    },
    {
      "cell_type": "code",
      "execution_count": null,
      "metadata": {
        "collapsed": false
      },
      "outputs": [],
      "source": [
        "rot45 = so3.rotate_along(torch.tensor([0, 0, math.pi / 4]))\nrot_neg_45 = so3.rotate_along(torch.tensor([0, 0, -math.pi / 4]))\n\n\ndef potential(coordinates):\n    rotated_coordinates = (rot_neg_45 @ coordinates.transpose(-1, -2)).transpose(-1, -2)\n    x, y, z = rotated_coordinates.unbind(-1)\n    return naive_potential(x, y, z).sum(dim=-1)"
      ]
    },
    {
      "cell_type": "markdown",
      "metadata": {},
      "source": [
        "Now let's compute the hessian one molecule containing two atoms at the origin\n\n"
      ]
    },
    {
      "cell_type": "code",
      "execution_count": null,
      "metadata": {
        "collapsed": false
      },
      "outputs": [],
      "source": [
        "coordinates = torch.zeros(2, 3, requires_grad=True)\nenergy = potential(coordinates)\nhessian = vib.hessian(coordinates, energies=energy)\nprint(hessian)"
      ]
    },
    {
      "cell_type": "markdown",
      "metadata": {},
      "source": [
        "Let's compute the theoretical result to see if it matches with the result above:\n\nFirst of all, because there are no interactions between atoms, the hessian\nshould be a block diagonal matrix:\n\n\\begin{align}H = \\left[9\\times9\\right] = \\left[\\begin{array}{cc}\n                                    3\\times3\\\\\n                                    & 3\\times3\n                                    \\end{array}\\right]\\end{align}\n\nThe two $3\\times3$ matricies are identical. For each $3\\times3$\nmatrix, the potential is not rotated at the z axis, so the structure of it\nshould be:\n\n\\begin{align}\\left[\\begin{array}{ccc}\n   ? & ?\\\\\n   ? & ?\\\\\n   &  & 2\n   \\end{array}\\right]\\end{align}\n\nIt is not hard to figure out that, for the rotated potential, considering\nonly the contribution from x,y plane, it can be written as:\n\n\\begin{align}U=\\frac{1}{2}\\left[0.5\\left(\\frac{x+y}{\\sqrt{2}}\\right)^{2}+\\left(\\frac{y-x}{\\sqrt{2}}\\right)^{2}\\right]=\\frac{1}{4}\\left(1.5x^{2}+1.5y^{2}-xy\\right)\\end{align}\n\nTherefore, the $2\\times2$ block on the top left should be\n\n\\begin{align}\\left[\\begin{array}{cc}\n   0.75 & -0.25\\\\\n   -0.25 & 0.75\n   \\end{array}\\right]\\end{align}\n\n"
      ]
    },
    {
      "cell_type": "code",
      "execution_count": null,
      "metadata": {
        "collapsed": false
      },
      "outputs": [],
      "source": [
        "def test_analytical_hessian():\n    hessian00 = hessian[:3, :3]\n    hessian01 = hessian[:3, 3:]\n    hessian10 = hessian[3:, :3]\n    hessian11 = hessian[3:, 3:]\n    expected = torch.tensor([\n        [ 0.75, -0.25, 0],  # noqa: E201, E241\n        [-0.25,  0.75, 0],  # noqa: E201, E241\n        [ 0.00,  0.00, 2],  # noqa: E201, E241\n    ])\n    assert torch.allclose(hessian00, expected)\n    assert torch.allclose(hessian11, expected)\n    assert torch.allclose(hessian10, torch.zeros(3, 3))\n    assert torch.allclose(hessian01, torch.zeros(3, 3))"
      ]
    },
    {
      "cell_type": "markdown",
      "metadata": {},
      "source": [
        "Now let's run all the tests\n\n"
      ]
    },
    {
      "cell_type": "code",
      "execution_count": null,
      "metadata": {
        "collapsed": false
      },
      "outputs": [],
      "source": [
        "if __name__ == '__main__':\n    pytest.main([sys.argv[0], '-v'])"
      ]
    }
  ],
  "metadata": {
    "kernelspec": {
      "display_name": "Python 3",
      "language": "python",
      "name": "python3"
    },
    "language_info": {
      "codemirror_mode": {
        "name": "ipython",
        "version": 3
      },
      "file_extension": ".py",
      "mimetype": "text/x-python",
      "name": "python",
      "nbconvert_exporter": "python",
      "pygments_lexer": "ipython3",
      "version": "3.6.9"
    }
  },
  "nbformat": 4,
  "nbformat_minor": 0
}