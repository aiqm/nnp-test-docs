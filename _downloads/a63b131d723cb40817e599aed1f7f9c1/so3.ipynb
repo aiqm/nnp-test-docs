{
  "cells": [
    {
      "cell_type": "code",
      "execution_count": null,
      "metadata": {
        "collapsed": false
      },
      "outputs": [],
      "source": [
        "%matplotlib inline"
      ]
    },
    {
      "cell_type": "markdown",
      "metadata": {},
      "source": [
        "\nSO(3) Lie Group Operations\n==========================\n\nThe module ``nnp.so3`` contains tools to rotate point clouds in 3D space.\n"
      ]
    },
    {
      "cell_type": "markdown",
      "metadata": {},
      "source": [
        "Let's first import all the packages we will use:\n\n"
      ]
    },
    {
      "cell_type": "code",
      "execution_count": null,
      "metadata": {
        "collapsed": false
      },
      "outputs": [],
      "source": [
        "import torch\nfrom torch import Tensor\nfrom torch.jit import Final"
      ]
    },
    {
      "cell_type": "markdown",
      "metadata": {},
      "source": [
        "The following function implements rotation along an axis passing the origin.\nRotation in 3D is not as trivial as in 2D. Here we start from the equation of\nmotion. Let $\\vec{n}$ be the unit vector pointing to\ndirection of the axis, then for an infinitesimal rotation, we have\n\n\\begin{align}\\frac{\\mathrm{d}\\vec{r}}{\\mathrm{d}\\theta}\n      = \\vec{n} \\times \\vec{r}\\end{align}\n\nThat is\n\n\\begin{align}\\frac{\\mathrm{d}r_i}{\\mathrm{d}\\theta} = \\epsilon_{ijk} n_j r_k\\end{align}\n\nwhere $\\epsilon_{ijk}$ is the Levi-Civita symbol, let\n$W_{ik}=\\epsilon_{ijk} n_j$, then the above equation becomes\na matrix equation:\n\n\\begin{align}\\frac{\\mathrm{d}\\vec{r}}{\\mathrm{d}\\theta} = W \\cdot \\vec{r}\\end{align}\n\nIt is not hard to see that $W$ is a skew-symmetric matrix.\nFrom the above equation and the knowledge of linear algebra,\nmatrix Lie algebra/group, it is not hard to see that the set of\nall rotation operations along the axis $\\vec{n}$ is a one\nparameter Lie group. And the skew-symmetric matrices together\nwith standard matrix commutator is a Lie algebra.This Lie group\nand Lie algebra is connected by the exponential map. See Wikipedia\n`Exponential map (Lie theory)`_ for more detail.\n\n  https://en.wikipedia.org/wiki/Exponential_map_(Lie_theory)\n\nSo it is easy to tell that:\n\n\\begin{align}\\vec{r}\\left(\\theta\\right) = \\exp \\left(\\theta W\\right) \\cdot\n      \\vec{r}\\left(0\\right)\\end{align}\n\nwhere $\\vec{r}\\left(0\\right)$ is the initial coordinates,\nand $\\vec{r}\\left(\\theta\\right)$ is the final coordinates\nafter rotating $\\theta$.\n\nTo implement, let's first define the Levi-Civita symbol:\n\n"
      ]
    },
    {
      "cell_type": "code",
      "execution_count": null,
      "metadata": {
        "collapsed": false
      },
      "outputs": [],
      "source": [
        "levi_civita: Final[Tensor] = torch.zeros(3, 3, 3)\nlevi_civita[0, 1, 2] = levi_civita[1, 2, 0] = levi_civita[2, 0, 1] = 1\nlevi_civita[0, 2, 1] = levi_civita[2, 1, 0] = levi_civita[1, 0, 2] = -1"
      ]
    },
    {
      "cell_type": "markdown",
      "metadata": {},
      "source": [
        "PyTorch does not have matrix exp, let's implement it here. See\n`Matrix function`_ for details.\n\n  https://en.wikipedia.org/wiki/Matrix_function\n\n"
      ]
    },
    {
      "cell_type": "code",
      "execution_count": null,
      "metadata": {
        "collapsed": false
      },
      "outputs": [],
      "source": [
        "def expm(matrix: Tensor) -> Tensor:\n    e, V = torch.symeig(matrix, eigenvectors=True)\n    return V @ torch.diag(e).exp() @ V.t()"
      ]
    },
    {
      "cell_type": "markdown",
      "metadata": {},
      "source": [
        "Now we are ready to implement the $\\exp \\left(\\theta W\\right)$\n\n"
      ]
    },
    {
      "cell_type": "code",
      "execution_count": null,
      "metadata": {
        "collapsed": false
      },
      "outputs": [],
      "source": [
        "def rotate_along(axis: Tensor) -> Tensor:\n    r\"\"\"Compute group elements of rotating along an axis passing origin.\n\n    Arguments:\n        axis: a vector (x, y, z) whose direction specifies the axis of the rotation,\n            length specifies the radius to rotate, and sign specifies clockwise\n            or anti-clockwise.\n\n    Return:\n        the rotational matrix :math:`\\exp{\\left(\\theta W\\right)}`.\n    \"\"\"\n    print(levi_civita)\n    W = torch.einsum('ijk,j->ik', levi_civita.to(axis), axis)\n    print(W)\n    return expm(W)"
      ]
    }
  ],
  "metadata": {
    "kernelspec": {
      "display_name": "Python 3",
      "language": "python",
      "name": "python3"
    },
    "language_info": {
      "codemirror_mode": {
        "name": "ipython",
        "version": 3
      },
      "file_extension": ".py",
      "mimetype": "text/x-python",
      "name": "python",
      "nbconvert_exporter": "python",
      "pygments_lexer": "ipython3",
      "version": "3.7.5"
    }
  },
  "nbformat": 4,
  "nbformat_minor": 0
}