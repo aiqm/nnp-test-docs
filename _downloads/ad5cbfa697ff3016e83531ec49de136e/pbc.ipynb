{
  "cells": [
    {
      "cell_type": "code",
      "execution_count": null,
      "metadata": {
        "collapsed": false
      },
      "outputs": [],
      "source": [
        "%matplotlib inline"
      ]
    },
    {
      "cell_type": "markdown",
      "metadata": {},
      "source": [
        "\nPeriodic Boundary Conditions\n============================\n\nThis file contains\n\n"
      ]
    },
    {
      "cell_type": "code",
      "execution_count": null,
      "metadata": {
        "collapsed": false
      },
      "outputs": [],
      "source": [
        "import torch\nfrom torch import Tensor\n\n\ndef map2central(cell: Tensor, coordinates: Tensor, pbc: Tensor) -> Tensor:\n    \"\"\"Map atoms outside the unit cell into the cell using PBC.\n\n    Arguments:\n        cell (:class:`torch.Tensor`): tensor of shape (3, 3) of the three\n            vectors defining unit cell:\n\n            .. code-block:: python\n\n                tensor([[x1, y1, z1],\n                        [x2, y2, z2],\n                        [x3, y3, z3]])\n\n        coordinates (:class:`torch.Tensor`): Tensor of shape ``(atoms, 3)``\n            or ``(molecules, atoms, 3)``.\n        pbc (:class:`torch.Tensor`): boolean vector of size 3 storing\n            if pbc is enabled for that direction.\n    Returns:\n        :class:`torch.Tensor`: coordinates of atoms mapped back to unit cell.\n    \"\"\"\n    # Step 1: convert coordinates from standard cartesian coordinate to unit\n    # cell coordinates\n    inv_cell = torch.inverse(cell)\n    coordinates_cell = coordinates @ inv_cell\n    # Step 2: wrap cell coordinates into [0, 1)\n    coordinates_cell -= coordinates_cell.floor() * pbc.to(coordinates_cell.dtype)\n    # Step 3: convert from cell coordinates back to standard cartesian\n    # coordinate\n    return coordinates_cell @ cell"
      ]
    }
  ],
  "metadata": {
    "kernelspec": {
      "display_name": "Python 3",
      "language": "python",
      "name": "python3"
    },
    "language_info": {
      "codemirror_mode": {
        "name": "ipython",
        "version": 3
      },
      "file_extension": ".py",
      "mimetype": "text/x-python",
      "name": "python",
      "nbconvert_exporter": "python",
      "pygments_lexer": "ipython3",
      "version": "3.6.9"
    }
  },
  "nbformat": 4,
  "nbformat_minor": 0
}