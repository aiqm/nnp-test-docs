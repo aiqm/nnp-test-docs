{
  "cells": [
    {
      "cell_type": "code",
      "execution_count": null,
      "metadata": {
        "collapsed": false
      },
      "outputs": [],
      "source": [
        "%matplotlib inline"
      ]
    },
    {
      "cell_type": "markdown",
      "metadata": {},
      "source": [
        "\nPeriodic Boundary Conditions\n============================\n\nThe module `nnp.pbc` contains tools to deal with periodic boundary conditions.\n\n"
      ]
    },
    {
      "cell_type": "markdown",
      "metadata": {},
      "source": [
        "Let's first import all the packages we will use:\n\n"
      ]
    },
    {
      "cell_type": "code",
      "execution_count": null,
      "metadata": {
        "collapsed": false
      },
      "outputs": [],
      "source": [
        "import torch\nfrom torch import Tensor"
      ]
    },
    {
      "cell_type": "markdown",
      "metadata": {},
      "source": [
        "The following function computes the number of repeats required to \n\n"
      ]
    },
    {
      "cell_type": "code",
      "execution_count": null,
      "metadata": {
        "collapsed": false
      },
      "outputs": [],
      "source": [
        "def num_repeats(cell: Tensor, pbc: Tensor, cutoff: float) -> Tensor:\n    \"\"\"Compute the number of repeats required along each cell vector to make\n    the original cell and repeated cells together form a large enough box\n    so that for each atom in the original cell, all its neighbor atoms within\n    the given cutoff distance are contained in the big box.\n\n    Arguments:\n        cell: tensor of shape ``(3, 3)`` of the three vectors defining unit cell:\n\n            .. code-block:: python\n\n                tensor([[x1, y1, z1],\n                        [x2, y2, z2],\n                        [x3, y3, z3]])\n\n        pbc: boolean vector of size 3 storing if pbc is enabled for that direction.\n        cutoff: the cutoff inside which atoms are considered as pairs\n\n    Returns:\n        numbers of repeats required to make the repeated box contains all the neighbors\n        of atoms in the ceter cell\n    \"\"\"\n    reciprocal_cell = cell.inverse().t()\n    inv_distances = reciprocal_cell.norm(2, -1)\n    result = torch.ceil(cutoff * inv_distances).to(torch.long)\n    return torch.where(pbc, result, torch.tensor(0))\n\n\ndef map2central(cell: Tensor, coordinates: Tensor, pbc: Tensor) -> Tensor:\n    \"\"\"Map atoms outside the unit cell into the cell using PBC.\n\n    Arguments:\n        cell: tensor of shape ``(3, 3)`` of the three vectors defining unit cell:\n\n            .. code-block:: python\n\n                tensor([[x1, y1, z1],\n                        [x2, y2, z2],\n                        [x3, y3, z3]])\n\n        coordinates: Tensor of shape ``(atoms, 3)`` or ``(molecules, atoms, 3)``.\n        pbc: boolean vector of size 3 storing if pbc is enabled for that direction.\n\n    Returns:\n        coordinates of atoms mapped back to unit cell.\n    \"\"\"\n    # Step 1: convert coordinates from standard cartesian coordinate to unit\n    # cell coordinates\n    inv_cell = torch.inverse(cell)\n    coordinates_cell = coordinates @ inv_cell\n    # Step 2: wrap cell coordinates into [0, 1)\n    coordinates_cell -= coordinates_cell.floor() * pbc.to(coordinates_cell.dtype)\n    # Step 3: convert from cell coordinates back to standard cartesian\n    # coordinate\n    return coordinates_cell @ cell"
      ]
    }
  ],
  "metadata": {
    "kernelspec": {
      "display_name": "Python 3",
      "language": "python",
      "name": "python3"
    },
    "language_info": {
      "codemirror_mode": {
        "name": "ipython",
        "version": 3
      },
      "file_extension": ".py",
      "mimetype": "text/x-python",
      "name": "python",
      "nbconvert_exporter": "python",
      "pygments_lexer": "ipython3",
      "version": "3.6.9"
    }
  },
  "nbformat": 4,
  "nbformat_minor": 0
}