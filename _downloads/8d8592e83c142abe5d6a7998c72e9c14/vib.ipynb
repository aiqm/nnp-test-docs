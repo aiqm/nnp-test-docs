{
  "cells": [
    {
      "cell_type": "code",
      "execution_count": null,
      "metadata": {
        "collapsed": false
      },
      "outputs": [],
      "source": [
        "%matplotlib inline"
      ]
    },
    {
      "cell_type": "markdown",
      "metadata": {},
      "source": [
        "\nVibrational Analysis\n====================\n\nThe module ``nnp.vib`` contains tools to compute analytical hessian\nand do vibrational analysis.\n\n"
      ]
    },
    {
      "cell_type": "markdown",
      "metadata": {},
      "source": [
        "Let's first import all the packages we will use:\n\n"
      ]
    },
    {
      "cell_type": "code",
      "execution_count": null,
      "metadata": {
        "collapsed": false
      },
      "outputs": [],
      "source": [
        "import torch\nfrom torch import Tensor\nfrom typing import NamedTuple, Optional"
      ]
    },
    {
      "cell_type": "markdown",
      "metadata": {},
      "source": [
        "With ``torch.autograd`` automatic differentiation engine, computing analytical\nhessian is very simple: Just compute the gradient of energies with respect\nto forces, and then compute the gradient of each element of forces with respect\nto coordinates again.\n\nThe ``torch.autograd.grad`` returns a list of ``Optional[Tensor]``. To be\ncompatible with ``torch.jit``, we need to use assert statement to allow\n``torch.jit`` to do `type refinement`_.\n\n  https://pytorch.org/docs/stable/jit.html#optional-type-refinement\n\n"
      ]
    },
    {
      "cell_type": "code",
      "execution_count": null,
      "metadata": {
        "collapsed": false
      },
      "outputs": [],
      "source": [
        "def _get_derivatives_not_none(x: Tensor, y: Tensor, retain_graph: Optional[bool] = None,\n                              create_graph: bool = False) -> Tensor:\n    ret = torch.autograd.grad(\n        [y.sum()], [x], retain_graph=retain_graph, create_graph=create_graph)[0]\n    assert ret is not None\n    return ret\n\n\ndef hessian(coordinates: Tensor, energies: Optional[Tensor] = None,\n            forces: Optional[Tensor] = None) -> Tensor:\n    \"\"\"Compute analytical hessian from the energy graph or force graph.\n\n    Arguments:\n        coordinates: Tensor of shape `(molecules, atoms, 3)` or `(atoms, 3)`\n        energies: Tensor of shape `(molecules,)`, or scalar, if specified,\n            then `forces` must be `None`. This energies must be computed\n            from `coordinates` in a graph.\n        forces: Tensor of shape `(molecules, atoms, 3)` or `(atoms, 3)`,\n            if specified, then `energies` must be `None`. This forces must\n            be computed from `coordinates` in a graph.\n\n    Returns:\n        Tensor of shape `(molecules, 3 * atoms, 3 * atoms)` or `(3 * atoms, 3 * atoms)`\n    \"\"\"\n    if energies is None and forces is None:\n        raise ValueError('Energies or forces must be specified')\n    if energies is not None and forces is not None:\n        raise ValueError('Energies or forces can not be specified at the same time')\n    if forces is None:\n        assert energies is not None\n        forces = -_get_derivatives_not_none(coordinates, energies, create_graph=True)\n    flattened_force = forces.flatten(start_dim=-2)\n    force_components = flattened_force.unbind(dim=-1)\n    return -torch.stack([\n        _get_derivatives_not_none(coordinates, f, retain_graph=True).flatten(start_dim=-2)\n        for f in force_components\n    ], dim=-1)"
      ]
    },
    {
      "cell_type": "markdown",
      "metadata": {},
      "source": [
        "Below are helper functions to compute vibrational frequencies and normal modes.\nThe normal modes and vibrational frquencies satisfies the following equation.\n\n\\begin{align}H q = \\omega^2 T q\\end{align}\n\nwhere $H$ is the Hessian matrix, $q$ is the normal coordinates, and\n\n\\begin{align}T=\\left[\n   \\begin{array}{ccccccc}\n   m_{1}\\\\\n   & m_{1}\\\\\n   &  & m_{1}\\\\\n   &  &  & m_{2}\\\\\n   &  &  &  & m_{2}\\\\\n   &  &  &  &  & m_{2}\\\\\n   &  &  &  &  &  & \\ddots\n   \\end{array}\n   \\right]\\end{align}\n\nis the mass for each coordinate.\n\nThis is a generalized eigen problem, which is not immediately supported by PyTorch\nSo we solve this problem through Lowdin diagnolization:\n\n\\begin{align}H q = \\omega^2 T q \\Longrightarrow H q = \\omega^2 T^{\\frac{1}{2}} T^{\\frac{1}{2}} q\\end{align}\n\nLet $q' = T^{\\frac{1}{2}} q$, we then have\n\n\\begin{align}T^{\\frac{1}{2}} H T^{\\frac{1}{2}} q' = \\omega^2 q'\\end{align}\n\nthis is a regular eigen problem\n\n"
      ]
    },
    {
      "cell_type": "code",
      "execution_count": null,
      "metadata": {
        "collapsed": false
      },
      "outputs": [],
      "source": [
        "class FreqsModes(NamedTuple):\n    angular_frequencies: Tensor\n    modes: Tensor\n\n\ndef vibrational_analysis(masses: Tensor, hessian: Tensor) -> FreqsModes:\n    \"\"\"Computing the vibrational wavenumbers from hessian.\n\n    Arguments:\n        masses: Tensor of shape `(molecules, atoms)` or `(atoms,)`.\n        hessian: Tensor of shape `(molecules, 3 * atoms, 3 * atoms)` or\n            `(3 * atoms, 3 * atoms)`.\n\n    Returns:\n        A namedtuple `(angular_frequencies, modes)` where\n\n        angular_frequencies:\n            Tensor of shape `(molecules, 3 * atoms)` or `(3 * atoms,)`\n        modes:\n            Tensor of shape `(molecules, modes, atoms, 3)` or `(modes, atoms, 3)`\n            where `modes = 3 * atoms` is the number of normal modes.\n    \"\"\"\n    inv_sqrt_mass = masses.rsqrt().repeat_interleave(3, dim=-1)\n    mass_scaled_hessian = hessian * inv_sqrt_mass.unsqueeze(-2) * inv_sqrt_mass.unsqueeze(-1)\n    eigenvalues, eigenvectors = torch.symeig(mass_scaled_hessian, eigenvectors=True)\n    angular_frequencies = eigenvalues.sqrt()\n    modes = (eigenvectors.transpose(-1, -2) * inv_sqrt_mass.unsqueeze(-2))\n    new_shape = modes.shape[:-1] + (-1, 3)\n    modes = modes.reshape(new_shape)\n    return FreqsModes(angular_frequencies, modes)"
      ]
    }
  ],
  "metadata": {
    "kernelspec": {
      "display_name": "Python 3",
      "language": "python",
      "name": "python3"
    },
    "language_info": {
      "codemirror_mode": {
        "name": "ipython",
        "version": 3
      },
      "file_extension": ".py",
      "mimetype": "text/x-python",
      "name": "python",
      "nbconvert_exporter": "python",
      "pygments_lexer": "ipython3",
      "version": "3.6.10"
    }
  },
  "nbformat": 4,
  "nbformat_minor": 0
}