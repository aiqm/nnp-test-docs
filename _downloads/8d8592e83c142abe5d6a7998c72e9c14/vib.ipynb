{
  "cells": [
    {
      "cell_type": "code",
      "execution_count": null,
      "metadata": {
        "collapsed": false
      },
      "outputs": [],
      "source": [
        "%matplotlib inline"
      ]
    },
    {
      "cell_type": "markdown",
      "metadata": {},
      "source": [
        "\nVibrational Analysis\n====================\n\n"
      ]
    },
    {
      "cell_type": "code",
      "execution_count": null,
      "metadata": {
        "collapsed": false
      },
      "outputs": [],
      "source": [
        "import torch\nfrom torch import Tensor\nfrom typing import NamedTuple, Optional\nimport math\n\n\ndef hessian(coordinates: Tensor, energies: Optional[Tensor] = None,\n            forces: Optional[Tensor] = None) -> Tensor:\n    \"\"\"Compute analytical hessian from the energy graph or force graph.\n\n    Arguments:\n        coordinates (:class:`torch.Tensor`): Tensor of shape `(molecules, atoms, 3)` or\n            ``(atoms, 3)``.\n        energies (:class:`torch.Tensor`): Tensor of shape `(molecules,)`, if specified,\n            then `forces` must be `None`. This energies must be computed from\n            `coordinates` in a graph.\n        forces (:class:`torch.Tensor`): Tensor of shape `(molecules, atoms, 3)`, if specified,\n            then `energies` must be `None`. This forces must be computed from\n            `coordinates` in a graph.\n    Returns:\n        :class:`torch.Tensor`: Tensor of shape `(molecules, 3A, 3A)` where A is the number of\n        atoms in each molecule\n    \"\"\"\n    if energies is None and forces is None:\n        raise ValueError()\n    if energies is not None and forces is not None:\n        raise ValueError('Energies or forces can not be specified at the same time')\n    if forces is None:\n        assert energies is not None\n        forces = -torch.autograd.grad(energies.sum(), coordinates, create_graph=True)[0]\n    flattened_force = forces.flatten(start_dim=1)\n    force_components = flattened_force.unbind(dim=1)\n    return -torch.stack([\n        torch.autograd.grad(f.sum(), coordinates, retain_graph=True)[0].flatten(start_dim=1)\n        for f in force_components\n    ], dim=1)\n\n\nclass FreqsModes(NamedTuple):\n    freqs: Tensor\n    modes: Tensor\n\n\ndef vibrational_analysis(masses: Tensor, hessian: Tensor) -> FreqsModes:\n    \"\"\"Computing the vibrational wavenumbers from hessian.\"\"\"\n    assert hessian.shape[0] == 1, 'Currently only supporting computing one molecule a time'\n    # Solving the eigenvalue problem: Hq = w^2 * T q\n    # where H is the Hessian matrix, q is the normal coordinates,\n    # T = diag(m1, m1, m1, m2, m2, m2, ....) is the mass\n    # We solve this eigenvalue problem through Lowdin diagnolization:\n    # Hq = w^2 * Tq ==> Hq = w^2 * T^(1/2) T^(1/2) q\n    # Letting q' = T^(1/2) q, we then have\n    # T^(-1/2) H T^(-1/2) q' = w^2 * q'\n    inv_sqrt_mass = masses.rsqrt().repeat_interleave(3, dim=1)  # shape (molecule, 3 * atoms)\n    mass_scaled_hessian = hessian * inv_sqrt_mass.unsqueeze(1) * inv_sqrt_mass.unsqueeze(2)\n    if mass_scaled_hessian.shape[0] != 1:\n        raise ValueError('The input should contain only one molecule')\n    mass_scaled_hessian = mass_scaled_hessian.squeeze(0)\n    eigenvalues, eigenvectors = torch.symeig(mass_scaled_hessian, eigenvectors=True)\n    angular_frequencies = eigenvalues.sqrt()\n    frequencies = angular_frequencies / (2 * math.pi)\n    modes = (eigenvectors.t() * inv_sqrt_mass).reshape(frequencies.numel(), -1, 3)\n    return FreqsModes(frequencies, modes)"
      ]
    }
  ],
  "metadata": {
    "kernelspec": {
      "display_name": "Python 3",
      "language": "python",
      "name": "python3"
    },
    "language_info": {
      "codemirror_mode": {
        "name": "ipython",
        "version": 3
      },
      "file_extension": ".py",
      "mimetype": "text/x-python",
      "name": "python",
      "nbconvert_exporter": "python",
      "pygments_lexer": "ipython3",
      "version": "3.6.9"
    }
  },
  "nbformat": 4,
  "nbformat_minor": 0
}