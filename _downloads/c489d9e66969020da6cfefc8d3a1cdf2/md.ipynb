{
  "cells": [
    {
      "cell_type": "code",
      "execution_count": null,
      "metadata": {
        "collapsed": false
      },
      "outputs": [],
      "source": [
        "%matplotlib inline"
      ]
    },
    {
      "cell_type": "markdown",
      "metadata": {},
      "source": [
        "\nMolecular Dynamics\n==================\n\nCurrently it contains a calculator for `ASE`_.\n\n    https://wiki.fysik.dtu.dk/ase\n\n"
      ]
    },
    {
      "cell_type": "code",
      "execution_count": null,
      "metadata": {
        "collapsed": false
      },
      "outputs": [],
      "source": [
        "import torch\nfrom torch import Tensor\nimport ase.calculators.calculator\nfrom nnp import pbc\nfrom typing import Callable, Sequence\n\n\nclass Calculator(ase.calculators.calculator.Calculator):\n    \"\"\"ASE Calculator that wraps a neural network potential\n\n    Arguments:\n        func (callable): A fucntion that .\n        overwrite (bool): After wrapping atoms into central box, whether\n            to replace the original positions stored in :class:`ase.Atoms`\n            object with the wrapped positions.\n    \"\"\"\n\n    implemented_properties = ['energy', 'forces', 'stress', 'free_energy']\n\n    def __init__(self, func: Callable[[Sequence[str], Tensor, Tensor, Tensor], Tensor],\n                 overwrite: bool = False):\n        super(Calculator, self).__init__()\n        self.func = func\n        self.overwrite = overwrite\n\n    def calculate(self, atoms=None, properties=['energy'],\n                  system_changes=ase.calculators.calculator.all_changes):\n        super(Calculator, self).calculate(atoms, properties, system_changes)\n        cell = torch.from_numpy(self.atoms.get_cell(complete=True))\n        pbc_ = torch.tensor(self.atoms.get_pbc(), dtype=torch.bool)\n        coordinates = torch.from_numpy(self.atoms.get_positions()).requires_grad_('forces' in properties)\n        pbc_enabled = pbc.any().item()\n\n        if pbc_enabled:\n            coordinates = pbc.map2central(cell, coordinates, pbc_)\n\n        if 'stress' in properties:\n            scaling = torch.eye(3, requires_grad=True)\n            coordinates = coordinates @ scaling\n            cell = cell @ scaling\n\n        energy = self.func(atoms.get_chemical_symbols(), coordinates, cell, pbc_)\n\n        self.results['energy'] = energy.item()\n        self.results['free_energy'] = energy.item()\n\n        if 'forces' in properties:\n            forces = -torch.autograd.grad(energy, coordinates)[0]\n            self.results['forces'] = forces.cpu().numpy()\n\n        if 'stress' in properties:\n            volume = self.atoms.get_volume()\n            stress = torch.autograd.grad(energy, scaling)[0] / volume\n            self.results['stress'] = stress.cpu().numpy()"
      ]
    }
  ],
  "metadata": {
    "kernelspec": {
      "display_name": "Python 3",
      "language": "python",
      "name": "python3"
    },
    "language_info": {
      "codemirror_mode": {
        "name": "ipython",
        "version": 3
      },
      "file_extension": ".py",
      "mimetype": "text/x-python",
      "name": "python",
      "nbconvert_exporter": "python",
      "pygments_lexer": "ipython3",
      "version": "3.6.9"
    }
  },
  "nbformat": 4,
  "nbformat_minor": 0
}