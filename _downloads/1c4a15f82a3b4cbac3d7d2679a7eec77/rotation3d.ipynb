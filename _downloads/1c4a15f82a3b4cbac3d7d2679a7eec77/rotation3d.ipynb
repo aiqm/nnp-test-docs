{
  "cells": [
    {
      "cell_type": "code",
      "execution_count": null,
      "metadata": {
        "collapsed": false
      },
      "outputs": [],
      "source": [
        "%matplotlib inline"
      ]
    },
    {
      "cell_type": "markdown",
      "metadata": {},
      "source": [
        "\nRotation in 3D Space\n====================\n\nThis tutorial demonstrates how rotate a group of points in 3D space.\n\n"
      ]
    },
    {
      "cell_type": "markdown",
      "metadata": {},
      "source": [
        "To begin with, we must understand that rotation is a linear transformation.\nThe set of all rotations forms the group SO(3). It is a Lie group that each\ngroup element is described by an orthogonal 3x3 matrix.\n\nThat is, if you have two points $\\vec{r}_1$ and $\\vec{r}_2$, and\nyou want to rotate the two points along the same axis for the same number of\ndegrees, then there is a single orthogonal matrix $R$ that no matter\nthe value of $\\vec{r}_1$ and $\\vec{r}_2$, their rotation is always\n$R\\cdot\\vec{r}_1$ and $R\\cdot\\vec{r}_2$.\n\nLet's import libraries first\n\n"
      ]
    },
    {
      "cell_type": "code",
      "execution_count": null,
      "metadata": {
        "collapsed": false
      },
      "outputs": [],
      "source": [
        "import math\nimport torch\nimport pytest\nimport nnp.so3 as so3"
      ]
    },
    {
      "cell_type": "markdown",
      "metadata": {},
      "source": [
        "Let's first take a look at a special case: rotating the three unit vectors\n``(1, 0, 0)``, ``(0, 1, 0)`` and ``(0, 0, 1)`` along the diagonal for 120\ndegree, this should permute these points:\n\n"
      ]
    },
    {
      "cell_type": "code",
      "execution_count": null,
      "metadata": {
        "collapsed": false
      },
      "outputs": [],
      "source": [
        "rx = torch.tensor([1, 0, 0])\nry = torch.tensor([0, 1, 0])\nrz = torch.tensor([0, 0, 1])\npoints = torch.stack([rx, ry, rz])"
      ]
    },
    {
      "cell_type": "markdown",
      "metadata": {},
      "source": [
        "Now let's compute the rotation matrix\n\n"
      ]
    },
    {
      "cell_type": "code",
      "execution_count": null,
      "metadata": {
        "collapsed": false
      },
      "outputs": [],
      "source": [
        "axis = torch.ones(3) / math.sqrt(3) * (math.pi * 2 / 3)\nR = so3.rotate_along(axis)"
      ]
    },
    {
      "cell_type": "markdown",
      "metadata": {},
      "source": [
        "Note that we need to do matrix-vector product for all these unit vectors\nso we need to do a transpose in order to use ``@`` operator.\n\n"
      ]
    },
    {
      "cell_type": "code",
      "execution_count": null,
      "metadata": {
        "collapsed": false
      },
      "outputs": [],
      "source": [
        "rotated = (R @ points.float().t()).t()\nprint(rotated)"
      ]
    },
    {
      "cell_type": "markdown",
      "metadata": {},
      "source": [
        "After this rotation, the three vector permutes: rx->ry, ry->rz, rz->rx. Let's\nprogrammically check that. This check will be run by pytest later.\n\n"
      ]
    },
    {
      "cell_type": "code",
      "execution_count": null,
      "metadata": {
        "collapsed": false
      },
      "outputs": [],
      "source": [
        "def test_rotated_unit_vectors():\n    expected = torch.stack([ry, rz, rx]).float()\n    assert torch.allclose(rotated, expected)"
      ]
    },
    {
      "cell_type": "markdown",
      "metadata": {},
      "source": [
        "Now let's run all the tests\n\n"
      ]
    },
    {
      "cell_type": "code",
      "execution_count": null,
      "metadata": {
        "collapsed": false
      },
      "outputs": [],
      "source": [
        "if __name__ == '__main__':\n    pytest.main()"
      ]
    }
  ],
  "metadata": {
    "kernelspec": {
      "display_name": "Python 3",
      "language": "python",
      "name": "python3"
    },
    "language_info": {
      "codemirror_mode": {
        "name": "ipython",
        "version": 3
      },
      "file_extension": ".py",
      "mimetype": "text/x-python",
      "name": "python",
      "nbconvert_exporter": "python",
      "pygments_lexer": "ipython3",
      "version": "3.6.9"
    }
  },
  "nbformat": 4,
  "nbformat_minor": 0
}