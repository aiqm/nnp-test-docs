{
  "cells": [
    {
      "cell_type": "code",
      "execution_count": null,
      "metadata": {
        "collapsed": false
      },
      "outputs": [],
      "source": [
        "%matplotlib inline"
      ]
    },
    {
      "cell_type": "markdown",
      "metadata": {},
      "source": [
        "\nRotation in 3D Space\n====================\n\nThis tutorial demonstrates how rotate a group of points in 3D space.\n"
      ]
    },
    {
      "cell_type": "markdown",
      "metadata": {},
      "source": [
        "To begin with, we must understand that rotation is a linear transformation.\nThe set of all rotations forms the group SO(3). It is a Lie group that each\ngroup element is described by an orthogonal 3x3 matrix.\n\nThat is, if you have two points $\\vec{r}_1$ and $\\vec{r}_2$, and\nyou want to rotate the two points along the same axis for the same number of\ndegrees, then there is a single orthogonal matrix $R$ that no matter\nthe value of $\\vec{r}_1$ and $\\vec{r}_2$, their rotation is always\n$R\\cdot\\vec{r}_1$ and $R\\cdot\\vec{r}_2$.\n\nLet's import libraries first\n\n"
      ]
    },
    {
      "cell_type": "code",
      "execution_count": null,
      "metadata": {
        "collapsed": false
      },
      "outputs": [],
      "source": [
        "import math\nimport torch\nimport nnp.so3 as so3"
      ]
    },
    {
      "cell_type": "markdown",
      "metadata": {},
      "source": [
        "Let's first take a look at a special case: rotating ``(1, 0, 0)``, ``(0, 1, 0)``\nand ``(0, 0, 1)`` along the diagonal for 120 degree, this should permute these\npoints:\n\n"
      ]
    },
    {
      "cell_type": "code",
      "execution_count": null,
      "metadata": {
        "collapsed": false
      },
      "outputs": [],
      "source": [
        "axis = torch.ones(3) / math.sqrt(3) * (math.pi * 2 / 3)\nR = so3.rotate_along(axis)\npoints = torch.tensor([\n    [1, 0, 0],\n    [0, 1, 0],\n    [0, 0, 1],\n], dtype=torch.float)\nrotated = R @ points\nprint(R)\n\nprint(R.t() @ R)"
      ]
    }
  ],
  "metadata": {
    "kernelspec": {
      "display_name": "Python 3",
      "language": "python",
      "name": "python3"
    },
    "language_info": {
      "codemirror_mode": {
        "name": "ipython",
        "version": 3
      },
      "file_extension": ".py",
      "mimetype": "text/x-python",
      "name": "python",
      "nbconvert_exporter": "python",
      "pygments_lexer": "ipython3",
      "version": "3.7.5"
    }
  },
  "nbformat": 4,
  "nbformat_minor": 0
}