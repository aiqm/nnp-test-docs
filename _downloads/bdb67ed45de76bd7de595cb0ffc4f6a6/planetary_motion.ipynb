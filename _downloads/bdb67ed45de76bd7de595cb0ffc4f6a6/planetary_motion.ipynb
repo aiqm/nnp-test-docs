{
  "cells": [
    {
      "cell_type": "code",
      "execution_count": null,
      "metadata": {
        "collapsed": false
      },
      "outputs": [],
      "source": [
        "%matplotlib inline"
      ]
    },
    {
      "cell_type": "markdown",
      "metadata": {},
      "source": [
        "\nUse ASE to Simulate Planetary Motion\n====================================\n\nThis tutorial shows how to use `ASE`_ to simulate planetary motion.\nAlthough both ASE and NNP are designed for molecular dynamics (MD),\nimplementing a force field to do MD is not at a reasonable abount of\nwork to use as a tutorial. So we simulate something different here.\nAssume we have two atoms, one hydrogen and one carbon. They are all\nmoving under the gravity centered at the origin. There is no interaction\nbetween these two atoms.\n\n    https://wiki.fysik.dtu.dk/ase\n\n"
      ]
    },
    {
      "cell_type": "markdown",
      "metadata": {},
      "source": [
        "Let's first import all the packages we will use.\n\n"
      ]
    },
    {
      "cell_type": "code",
      "execution_count": null,
      "metadata": {
        "collapsed": false
      },
      "outputs": [],
      "source": [
        "import torch\nimport ase\nimport nnp\nimport pytest"
      ]
    },
    {
      "cell_type": "markdown",
      "metadata": {},
      "source": [
        "Let's first import all the packages we will use.\n\n"
      ]
    },
    {
      "cell_type": "code",
      "execution_count": null,
      "metadata": {
        "collapsed": false
      },
      "outputs": [],
      "source": [
        "def test_result():\n    return\n\nif __name__ == '__main__':\n    pytest.main()"
      ]
    }
  ],
  "metadata": {
    "kernelspec": {
      "display_name": "Python 3",
      "language": "python",
      "name": "python3"
    },
    "language_info": {
      "codemirror_mode": {
        "name": "ipython",
        "version": 3
      },
      "file_extension": ".py",
      "mimetype": "text/x-python",
      "name": "python",
      "nbconvert_exporter": "python",
      "pygments_lexer": "ipython3",
      "version": "3.6.9"
    }
  },
  "nbformat": 4,
  "nbformat_minor": 0
}