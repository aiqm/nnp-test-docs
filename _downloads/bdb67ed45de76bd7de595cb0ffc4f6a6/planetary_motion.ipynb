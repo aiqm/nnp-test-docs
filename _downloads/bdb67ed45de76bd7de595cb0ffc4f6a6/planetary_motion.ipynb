{
  "cells": [
    {
      "cell_type": "code",
      "execution_count": null,
      "metadata": {
        "collapsed": false
      },
      "outputs": [],
      "source": [
        "%matplotlib inline"
      ]
    },
    {
      "cell_type": "markdown",
      "metadata": {},
      "source": [
        "\nUse ASE to Simulate Planetary Motion\n====================================\n\nThis tutorial shows how to use `ASE`_ to simulate planetary motion.\nAlthough both ASE and NNP are designed for molecular dynamics (MD),\nimplementing a force field to do MD is not at a reasonable abount of\nwork to use as a tutorial. So we simulate something different here.\nAssume we have two atoms, one hydrogen and one carbon. They are all\nmoving under the gravity centered at the origin. There is no interaction\nbetween these two atoms.\n\n    https://wiki.fysik.dtu.dk/ase\n"
      ]
    },
    {
      "cell_type": "markdown",
      "metadata": {},
      "source": [
        "Let's first import all the packages we will use:\n\n"
      ]
    },
    {
      "cell_type": "code",
      "execution_count": null,
      "metadata": {
        "collapsed": false
      },
      "outputs": [],
      "source": [
        "import ase\nfrom ase.data import atomic_masses\nfrom ase.units import fs\nfrom ase.md.verlet import VelocityVerlet\nimport nnp.md as md\nimport pytest\nimport sys\nimport math\nimport matplotlib.pyplot as plt"
      ]
    },
    {
      "cell_type": "markdown",
      "metadata": {},
      "source": [
        "The module `nnp.md` provide tools to run molecular dynamics with a potential\ndefined by PyTorch. To define the potential we need to provide a function that\ntakes the chemical symbols, atom coordinates, unit cell, and PBC flag as an input\nand returns the molecular energy as an output. The output and input coordinates\nand cell must be in the a differentiable graph so that PyTorch could automatically\ncompute the force and stress tensor using the `autograd` engine. In this example,\nwe don't care about the periodic boundary condition and unit cell because we\nare actually not simulating molecular system.\n\nFrom basic physics, we know that the equation for gravitational potential has\nthe equation $E(r)=-\\frac{GMm}{r}$. For simplicity, we choose $GM=1$\nwhen $E$ is in $\\mathrm{eV}$, $m$ in $\\mathrm{amu}$,\nand $r$ in Angstrom.\n\n"
      ]
    },
    {
      "cell_type": "code",
      "execution_count": null,
      "metadata": {
        "collapsed": false
      },
      "outputs": [],
      "source": [
        "def gravity(chemical_symbols, coordinates, _cell, _pbc):\n    assert len(chemical_symbols) == coordinates.shape[0]\n    atomic_numbers = {'H': 0, 'C': 6}\n    mass = coordinates.new_tensor(\n        [atomic_masses[atomic_numbers[s]] for s in chemical_symbols])\n    inv_r = 1 / coordinates.norm(dim=1)\n    potential_energies = - mass * inv_r\n    return potential_energies.sum()"
      ]
    },
    {
      "cell_type": "markdown",
      "metadata": {},
      "source": [
        "with this potential, we could define an ASE calculator:\n\n"
      ]
    },
    {
      "cell_type": "code",
      "execution_count": null,
      "metadata": {
        "collapsed": false
      },
      "outputs": [],
      "source": [
        "calculator = md.Calculator(gravity)"
      ]
    },
    {
      "cell_type": "markdown",
      "metadata": {},
      "source": [
        "Now let's create two atoms, initially at (1, 0, 0) and (2, 0, 0)\n\n"
      ]
    },
    {
      "cell_type": "code",
      "execution_count": null,
      "metadata": {
        "collapsed": false
      },
      "outputs": [],
      "source": [
        "planets = ase.Atoms('CH', [[1, 0, 0], [2, 0, 0]])"
      ]
    },
    {
      "cell_type": "markdown",
      "metadata": {},
      "source": [
        "For the purpose of demonstration, we make these two atoms's trajector a perfect\ncircle at the XY plane. To do so, we need to carefully set the initial velocity.\nIt is not hard to get that, the velocity is $v = \\sqrt{\\frac{GM}{r}}$.\n\n"
      ]
    },
    {
      "cell_type": "code",
      "execution_count": null,
      "metadata": {
        "collapsed": false
      },
      "outputs": [],
      "source": [
        "planets.set_velocities([[0, 1, 0], [0, 1 / math.sqrt(2), 0]])\nplanets.set_calculator(calculator)"
      ]
    },
    {
      "cell_type": "markdown",
      "metadata": {},
      "source": [
        "Now we can start the dynamics:\n\n"
      ]
    },
    {
      "cell_type": "code",
      "execution_count": null,
      "metadata": {
        "collapsed": false
      },
      "outputs": [],
      "source": [
        "X1 = []\nY1 = []\nZ1 = []\nX2 = []\nY2 = []\nZ2 = []\n\n\ndef dump_positions():\n    (x1, y1, z1), (x2, y2, z2) = planets.get_positions()\n    X1.append(x1)\n    Y1.append(y1)\n    Z1.append(z1)\n    X2.append(x2)\n    Y2.append(y2)\n    Z2.append(z2)\n\n\ndyn = VelocityVerlet(planets, timestep=0.01 * fs)\ndyn.attach(dump_positions)\ndyn.run(20000)"
      ]
    },
    {
      "cell_type": "markdown",
      "metadata": {},
      "source": [
        "Now let's plot the trajectory to see what we get:\n\n"
      ]
    },
    {
      "cell_type": "code",
      "execution_count": null,
      "metadata": {
        "collapsed": false
      },
      "outputs": [],
      "source": [
        "if __name__ == '__main__':\n    plt.clf()\n    plt.plot(X1, Y1, label='C')\n    plt.plot(X2, Y2, label='H')\n    plt.legend()\n    plt.axes().set_aspect('equal')\n    plt.show()"
      ]
    },
    {
      "cell_type": "markdown",
      "metadata": {},
      "source": [
        "To check the correctness of this dynamics, we use pytest to test if it is on\nthe XY plane and if the trajectory is circle:\n\n"
      ]
    },
    {
      "cell_type": "code",
      "execution_count": null,
      "metadata": {
        "collapsed": false
      },
      "outputs": [],
      "source": [
        "def test_is_on_xy_plan():\n    for z in Z1 + Z2:\n        assert abs(z) < 1e-4\n\n\ndef test_is_circle():\n    for x, y in zip(X1, Y1):\n        assert abs(math.sqrt(x * x + y * y) - 1) < 0.1\n    for x, y in zip(X2, Y2):\n        assert abs(math.sqrt(x * x + y * y) - 2) < 0.1\n\n\nif __name__ == '__main__':\n    pytest.main([sys.argv[0], '-v'])"
      ]
    }
  ],
  "metadata": {
    "kernelspec": {
      "display_name": "Python 3",
      "language": "python",
      "name": "python3"
    },
    "language_info": {
      "codemirror_mode": {
        "name": "ipython",
        "version": 3
      },
      "file_extension": ".py",
      "mimetype": "text/x-python",
      "name": "python",
      "nbconvert_exporter": "python",
      "pygments_lexer": "ipython3",
      "version": "3.7.7"
    }
  },
  "nbformat": 4,
  "nbformat_minor": 0
}